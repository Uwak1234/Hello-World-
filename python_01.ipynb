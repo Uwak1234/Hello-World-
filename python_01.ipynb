{
  "nbformat": 4,
  "nbformat_minor": 0,
  "metadata": {
    "colab": {
      "name": "python 01.ipynb",
      "provenance": [],
      "authorship_tag": "ABX9TyNRaswaq8K70dsIKQZkZY9P",
      "include_colab_link": true
    },
    "kernelspec": {
      "name": "python3",
      "display_name": "Python 3"
    },
    "language_info": {
      "name": "python"
    }
  },
  "cells": [
    {
      "cell_type": "markdown",
      "metadata": {
        "id": "view-in-github",
        "colab_type": "text"
      },
      "source": [
        "<a href=\"https://colab.research.google.com/github/Uwak1234/Hello-World-/blob/main/python_01.ipynb\" target=\"_parent\"><img src=\"https://colab.research.google.com/assets/colab-badge.svg\" alt=\"Open In Colab\"/></a>"
      ]
    },
    {
      "cell_type": "code",
      "execution_count": null,
      "metadata": {
        "id": "xK3hNB8pYuwX"
      },
      "outputs": [],
      "source": [
        "  # python"
      ]
    },
    {
      "cell_type": "code",
      "source": [
        "x = 11.0\n",
        "y= 7\n",
        "print(x+y)\n",
        "print(x-y)\n",
        "print(x*y)\n",
        "print(x/y)"
      ],
      "metadata": {
        "colab": {
          "base_uri": "https://localhost:8080/"
        },
        "id": "n3hxfcz6axYW",
        "outputId": "9f6b7f2d-a438-4d1f-9e34-206c6cf319b0"
      },
      "execution_count": null,
      "outputs": [
        {
          "output_type": "stream",
          "name": "stdout",
          "text": [
            "18.0\n",
            "4.0\n",
            "77.0\n",
            "1.5714285714285714\n"
          ]
        }
      ]
    },
    {
      "cell_type": "code",
      "source": [
        "x = 11.0\n",
        "y= 7\n",
        "print(x+y)\n",
        "print(x-y)\n",
        "print(x*y)\n",
        "print(x/y)"
      ],
      "metadata": {
        "colab": {
          "base_uri": "https://localhost:8080/"
        },
        "id": "MCXxl5yMa0Nc",
        "outputId": "bf00793a-cea9-4f4d-f106-823560391072"
      },
      "execution_count": null,
      "outputs": [
        {
          "output_type": "stream",
          "name": "stdout",
          "text": [
            "18.0\n",
            "4.0\n",
            "77.0\n",
            "1.5714285714285714\n"
          ]
        }
      ]
    },
    {
      "cell_type": "code",
      "source": [
        "type(x)\n"
      ],
      "metadata": {
        "colab": {
          "base_uri": "https://localhost:8080/"
        },
        "id": "nZsfKlkbbNL2",
        "outputId": "5d8162a4-672c-4500-9c88-6298f2a28323"
      },
      "execution_count": null,
      "outputs": [
        {
          "output_type": "execute_result",
          "data": {
            "text/plain": [
              "float"
            ]
          },
          "metadata": {},
          "execution_count": 8
        }
      ]
    },
    {
      "cell_type": "code",
      "source": [
        "name = 'Luca'\n",
        "age = 34 \n",
        "print(name)\n",
        "#print(name + age)\n",
        "print(name + \" \" +str(age))\n",
        "print(name*3)"
      ],
      "metadata": {
        "colab": {
          "base_uri": "https://localhost:8080/"
        },
        "id": "WS-DIGH1bWFe",
        "outputId": "0997cce1-c90c-4fae-f8eb-9afcb5be29f6"
      },
      "execution_count": null,
      "outputs": [
        {
          "output_type": "stream",
          "name": "stdout",
          "text": [
            "Luca\n",
            "Luca 34\n",
            "LucaLucaLuca\n"
          ]
        }
      ]
    },
    {
      "cell_type": "code",
      "source": [
        "name = input('insert your name' )\n",
        "name"
      ],
      "metadata": {
        "colab": {
          "base_uri": "https://localhost:8080/",
          "height": 54
        },
        "id": "75X63vqdeR9Y",
        "outputId": "ad956eb3-5efe-4ef2-ddd0-f98f0785a424"
      },
      "execution_count": null,
      "outputs": [
        {
          "name": "stdout",
          "output_type": "stream",
          "text": [
            "insert your nameUwakmfon Joshua \n"
          ]
        },
        {
          "output_type": "execute_result",
          "data": {
            "text/plain": [
              "'Uwakmfon Joshua '"
            ],
            "application/vnd.google.colaboratory.intrinsic+json": {
              "type": "string"
            }
          },
          "metadata": {},
          "execution_count": 10
        }
      ]
    },
    {
      "cell_type": "code",
      "source": [
        "age= input()\n",
        "print(age*5)\n",
        "age = int(age)\n",
        "print(age*5)"
      ],
      "metadata": {
        "colab": {
          "base_uri": "https://localhost:8080/"
        },
        "id": "Vdj8P-xvf_eP",
        "outputId": "705f6112-f7d3-46d6-994f-532efcf64f25"
      },
      "execution_count": null,
      "outputs": [
        {
          "output_type": "stream",
          "name": "stdout",
          "text": [
            "50\n",
            "5050505050\n",
            "250\n"
          ]
        }
      ]
    },
    {
      "cell_type": "code",
      "source": [
        "name = \"Uwak\"\n",
        "age=50"
      ],
      "metadata": {
        "id": "I07CRqFRghSW"
      },
      "execution_count": null,
      "outputs": []
    },
    {
      "cell_type": "code",
      "source": [
        "print('my name is '+ name +' I am 50 years old ' +str(age))"
      ],
      "metadata": {
        "colab": {
          "base_uri": "https://localhost:8080/"
        },
        "id": "jxupcUzHgsAG",
        "outputId": "4cc9cc62-a569-475e-bdf2-b22ee18d1cc8"
      },
      "execution_count": null,
      "outputs": [
        {
          "output_type": "stream",
          "name": "stdout",
          "text": [
            "my name is Uwak I am 50 years old 50\n"
          ]
        }
      ]
    },
    {
      "cell_type": "code",
      "source": [
        "print(f\"my name is {name} and my age is {age}\")"
      ],
      "metadata": {
        "colab": {
          "base_uri": "https://localhost:8080/"
        },
        "id": "aHlFGVoNhElj",
        "outputId": "eac07e26-bf8e-4ffc-eafb-c88264f59893"
      },
      "execution_count": null,
      "outputs": [
        {
          "output_type": "stream",
          "name": "stdout",
          "text": [
            "my name is Uwak and my age is 50\n"
          ]
        }
      ]
    },
    {
      "cell_type": "code",
      "source": [
        "print(\"my name is {} and my age is {}\".format('Uwak', 50))"
      ],
      "metadata": {
        "colab": {
          "base_uri": "https://localhost:8080/"
        },
        "id": "Q1tIJQbYhm8N",
        "outputId": "4f8e58a8-f3eb-4637-ca43-05faf53cdffc"
      },
      "execution_count": null,
      "outputs": [
        {
          "output_type": "stream",
          "name": "stdout",
          "text": [
            "my name is Uwak and my age is 50\n"
          ]
        }
      ]
    },
    {
      "cell_type": "code",
      "source": [
        "output = \"my name is {a} and my age is {b}\".format(a='Uwak',b = 50)\n"
      ],
      "metadata": {
        "id": "_8XLvuWYidOe"
      },
      "execution_count": null,
      "outputs": []
    },
    {
      "cell_type": "code",
      "source": [
        "output = \"my name is {} and my age is {}\"\n",
        "print(output)\n",
        "print(output.format('Luca',38))"
      ],
      "metadata": {
        "colab": {
          "base_uri": "https://localhost:8080/"
        },
        "id": "pErA53Cija1L",
        "outputId": "cb49dd01-9ff9-4ac6-f877-48dd30db4f1b"
      },
      "execution_count": null,
      "outputs": [
        {
          "output_type": "stream",
          "name": "stdout",
          "text": [
            "my name is {} and my age is {}\n",
            "my name is Luca and my age is 38\n"
          ]
        }
      ]
    },
    {
      "cell_type": "code",
      "source": [
        "output = \"my name is {0} and my age is {1}\"\n",
        "print(output)\n",
        "print(output.format('adham', 38))"
      ],
      "metadata": {
        "colab": {
          "base_uri": "https://localhost:8080/"
        },
        "id": "JBz-Q0M-kJU1",
        "outputId": "ab5a97ea-f6a3-43ec-c5c9-043c55b45932"
      },
      "execution_count": null,
      "outputs": [
        {
          "output_type": "stream",
          "name": "stdout",
          "text": [
            "my name is {0} and my age is {1}\n",
            "my name is adham and my age is 38\n"
          ]
        }
      ]
    },
    {
      "cell_type": "code",
      "source": [
        "print('ciao \"Luca\"')"
      ],
      "metadata": {
        "colab": {
          "base_uri": "https://localhost:8080/"
        },
        "id": "sftrXlzMk-0H",
        "outputId": "998a1a26-11b9-4792-df8c-9121023ea54d"
      },
      "execution_count": null,
      "outputs": [
        {
          "output_type": "stream",
          "name": "stdout",
          "text": [
            "ciao \"Luca\"\n"
          ]
        }
      ]
    },
    {
      "cell_type": "code",
      "source": [
        "output = 'hello world'\n",
        "print(output)\n",
        "print(output.lower())\n",
        "print(output.upper())\n",
        "print(output.capitalize())\n",
        "print(output.title())\n",
        "\n",
        "output = '   hello world   '\n",
        "print(output)\n",
        "print(output.strip())"
      ],
      "metadata": {
        "colab": {
          "base_uri": "https://localhost:8080/"
        },
        "id": "_NMUvxIelM8R",
        "outputId": "9750e460-9f66-4634-8bbf-05ebd1260453"
      },
      "execution_count": null,
      "outputs": [
        {
          "output_type": "stream",
          "name": "stdout",
          "text": [
            "hello world\n",
            "hello world\n",
            "HELLO WORLD\n",
            "Hello world\n",
            "Hello World\n",
            "   hello world   \n",
            "hello world\n"
          ]
        }
      ]
    },
    {
      "cell_type": "code",
      "source": [
        "friend_name =['Emy','Glo', 'Edi']\n",
        "print(friend_name)\n",
        "print(friend_name[1])\n",
        "print(friend_name[-1])\n",
        "print(friend_name.append('Edi'))\n",
        "print(friend_name.remove('Emy'))\n",
        "print(friend_name)"
      ],
      "metadata": {
        "colab": {
          "base_uri": "https://localhost:8080/"
        },
        "id": "u0Rwf5DRmi66",
        "outputId": "8dfa81dc-ec86-409f-988c-c7ad3c3826a3"
      },
      "execution_count": null,
      "outputs": [
        {
          "output_type": "stream",
          "name": "stdout",
          "text": [
            "['Emy', 'Glo', 'Edi']\n",
            "Glo\n",
            "Edi\n",
            "None\n",
            "None\n",
            "['Glo', 'Edi', 'Edi']\n"
          ]
        }
      ]
    },
    {
      "cell_type": "code",
      "source": [
        "number = [1,2,3,4,5,6]\n",
        "number.insert(2,4)\n",
        "print(number)"
      ],
      "metadata": {
        "colab": {
          "base_uri": "https://localhost:8080/"
        },
        "id": "DQmLqWzVojQZ",
        "outputId": "46a94377-a523-4fd8-ea64-2b85bf21068c"
      },
      "execution_count": null,
      "outputs": [
        {
          "output_type": "stream",
          "name": "stdout",
          "text": [
            "[1, 2, 4, 3, 4, 5, 6]\n"
          ]
        }
      ]
    },
    {
      "cell_type": "code",
      "source": [
        "names = ('Emy','Glo' 'Edi')\n",
        "print(names[0])"
      ],
      "metadata": {
        "colab": {
          "base_uri": "https://localhost:8080/"
        },
        "id": "PdhUbH8fo9pL",
        "outputId": "cc38d7ff-0ee3-491d-a86d-27b91c92266d"
      },
      "execution_count": null,
      "outputs": [
        {
          "output_type": "stream",
          "name": "stdout",
          "text": [
            "Emy\n"
          ]
        }
      ]
    },
    {
      "cell_type": "code",
      "source": [
        "friend_name = 'Emy'\n",
        "year = 2014\n",
        "Student = False "
      ],
      "metadata": {
        "id": "H4uACcTXpVyM"
      },
      "execution_count": null,
      "outputs": []
    },
    {
      "cell_type": "code",
      "source": [
        "my_friend_1 = ['Emy','2014',False]\n",
        "my_friend_2 = ['Glo,2014',True]"
      ],
      "metadata": {
        "id": "SkZ9Vln2poWs"
      },
      "execution_count": null,
      "outputs": []
    },
    {
      "cell_type": "code",
      "source": [
        "my_friend = [['Emy','2014',False],['Glo''2014',True]]"
      ],
      "metadata": {
        "id": "SFDw-fkW3s7Z"
      },
      "execution_count": null,
      "outputs": []
    },
    {
      "cell_type": "code",
      "source": [
        "my_friend_1"
      ],
      "metadata": {
        "colab": {
          "base_uri": "https://localhost:8080/"
        },
        "id": "uzGAoFCv4qRT",
        "outputId": "fb64234c-683a-449f-c823-c113b73d6235"
      },
      "execution_count": null,
      "outputs": [
        {
          "output_type": "execute_result",
          "data": {
            "text/plain": [
              "['Emy', '2014', False]"
            ]
          },
          "metadata": {},
          "execution_count": 42
        }
      ]
    },
    {
      "cell_type": "code",
      "source": [
        "my_friend_1[0]"
      ],
      "metadata": {
        "colab": {
          "base_uri": "https://localhost:8080/",
          "height": 36
        },
        "id": "BFRHt-pm5Azb",
        "outputId": "0872834d-107b-419d-dc0c-1002505cc65e"
      },
      "execution_count": null,
      "outputs": [
        {
          "output_type": "execute_result",
          "data": {
            "text/plain": [
              "'Emy'"
            ],
            "application/vnd.google.colaboratory.intrinsic+json": {
              "type": "string"
            }
          },
          "metadata": {},
          "execution_count": 43
        }
      ]
    },
    {
      "cell_type": "code",
      "source": [
        "my_friend[0][0]"
      ],
      "metadata": {
        "colab": {
          "base_uri": "https://localhost:8080/",
          "height": 36
        },
        "id": "PQl_IPd95VrB",
        "outputId": "11ecfab2-d312-48d7-d139-085694cec227"
      },
      "execution_count": null,
      "outputs": [
        {
          "output_type": "execute_result",
          "data": {
            "text/plain": [
              "'Emy'"
            ],
            "application/vnd.google.colaboratory.intrinsic+json": {
              "type": "string"
            }
          },
          "metadata": {},
          "execution_count": 44
        }
      ]
    },
    {
      "cell_type": "code",
      "source": [
        "my_friend.append(['Emy','2010',True])"
      ],
      "metadata": {
        "id": "7vdVJggS5ork"
      },
      "execution_count": null,
      "outputs": []
    },
    {
      "cell_type": "code",
      "source": [
        "my_friend"
      ],
      "metadata": {
        "colab": {
          "base_uri": "https://localhost:8080/"
        },
        "id": "88Ke2zwC59uk",
        "outputId": "62b5241f-f1b1-400a-e9f3-0c18cbfd3910"
      },
      "execution_count": null,
      "outputs": [
        {
          "output_type": "execute_result",
          "data": {
            "text/plain": [
              "[['Emy', '2014', False], ['Glo2014', True], ['Emy', '2010', True]]"
            ]
          },
          "metadata": {},
          "execution_count": 46
        }
      ]
    },
    {
      "cell_type": "code",
      "source": [
        "my_friend[0][2]=True"
      ],
      "metadata": {
        "id": "OR9ZE4qr6ED4"
      },
      "execution_count": null,
      "outputs": []
    },
    {
      "cell_type": "code",
      "source": [
        "my_friend[0]"
      ],
      "metadata": {
        "colab": {
          "base_uri": "https://localhost:8080/"
        },
        "id": "IABjFdhK6RBM",
        "outputId": "a98deb4a-ffea-41d3-816c-b417a9d5fec5"
      },
      "execution_count": null,
      "outputs": [
        {
          "output_type": "execute_result",
          "data": {
            "text/plain": [
              "['Emy', '2014', True]"
            ]
          },
          "metadata": {},
          "execution_count": 49
        }
      ]
    },
    {
      "cell_type": "code",
      "source": [
        "my_friend.append(('Emy',2010))"
      ],
      "metadata": {
        "id": "xUJult4l6aZm"
      },
      "execution_count": null,
      "outputs": []
    },
    {
      "cell_type": "code",
      "source": [
        "my_friend"
      ],
      "metadata": {
        "colab": {
          "base_uri": "https://localhost:8080/"
        },
        "id": "NwQG7lwK6szl",
        "outputId": "060e506b-df69-4ca2-a61b-4872ed3969c5"
      },
      "execution_count": null,
      "outputs": [
        {
          "output_type": "execute_result",
          "data": {
            "text/plain": [
              "[['Emy', '2014', True],\n",
              " ['Glo2014', True],\n",
              " ['Emy', '2010', True],\n",
              " ('Emy', 2010)]"
            ]
          },
          "metadata": {},
          "execution_count": 52
        }
      ]
    },
    {
      "cell_type": "code",
      "source": [
        "print(my_friend)\n",
        "my_friend.remove(['Emy','2014',True])\n"
      ],
      "metadata": {
        "colab": {
          "base_uri": "https://localhost:8080/"
        },
        "id": "QOKZTHf76527",
        "outputId": "824db4db-8376-4ea5-edee-8b76b5da8c12"
      },
      "execution_count": null,
      "outputs": [
        {
          "output_type": "stream",
          "name": "stdout",
          "text": [
            "[['Emy', '2014', True], ['Glo2014', True], ['Emy', '2010', True], ('Emy', 2010)]\n"
          ]
        }
      ]
    },
    {
      "cell_type": "code",
      "source": [
        "my_friend"
      ],
      "metadata": {
        "colab": {
          "base_uri": "https://localhost:8080/"
        },
        "id": "0F8x3_zG70jw",
        "outputId": "cebd89dd-a497-451c-fca6-d254e0466076"
      },
      "execution_count": null,
      "outputs": [
        {
          "output_type": "execute_result",
          "data": {
            "text/plain": [
              "[['Glo2014', True], ['Emy', '2010', True], ('Emy', 2010)]"
            ]
          },
          "metadata": {},
          "execution_count": 55
        }
      ]
    },
    {
      "cell_type": "code",
      "source": [
        "x=(1,2)\n",
        "type(x)"
      ],
      "metadata": {
        "colab": {
          "base_uri": "https://localhost:8080/"
        },
        "id": "byi2v_D-8xxS",
        "outputId": "3f863018-3c23-469b-e0a2-89e5e403f078"
      },
      "execution_count": null,
      "outputs": [
        {
          "output_type": "execute_result",
          "data": {
            "text/plain": [
              "tuple"
            ]
          },
          "metadata": {},
          "execution_count": 60
        }
      ]
    },
    {
      "cell_type": "code",
      "source": [
        "x=[1,2]\n",
        "type(x)"
      ],
      "metadata": {
        "colab": {
          "base_uri": "https://localhost:8080/"
        },
        "id": "uZ_DXE0V9AlE",
        "outputId": "fc1df75a-22af-4173-d1f5-018af950a4e5"
      },
      "execution_count": null,
      "outputs": [
        {
          "output_type": "execute_result",
          "data": {
            "text/plain": [
              "list"
            ]
          },
          "metadata": {},
          "execution_count": 61
        }
      ]
    },
    {
      "cell_type": "code",
      "source": [
        "x = tuple(x)\n",
        "print(type(x))\n",
        "x = list(x)\n",
        "type(x)"
      ],
      "metadata": {
        "colab": {
          "base_uri": "https://localhost:8080/"
        },
        "id": "XOb6Nxfk9RX7",
        "outputId": "378e8bc7-47c4-46b2-fa6b-745f44c9f1d9"
      },
      "execution_count": null,
      "outputs": [
        {
          "output_type": "stream",
          "name": "stdout",
          "text": [
            "<class 'tuple'>\n"
          ]
        },
        {
          "output_type": "execute_result",
          "data": {
            "text/plain": [
              "list"
            ]
          },
          "metadata": {},
          "execution_count": 62
        }
      ]
    },
    {
      "cell_type": "code",
      "source": [
        "result = 15<10\n",
        "print(result)"
      ],
      "metadata": {
        "colab": {
          "base_uri": "https://localhost:8080/"
        },
        "id": "5ZvJv8AVAjDU",
        "outputId": "b88668b3-838c-4d31-a92d-43f6d8363eba"
      },
      "execution_count": null,
      "outputs": [
        {
          "output_type": "stream",
          "name": "stdout",
          "text": [
            "False\n"
          ]
        }
      ]
    },
    {
      "cell_type": "code",
      "source": [
        "print(5==5)\n",
        "print(5!=5)\n",
        "print(5=='5')\n",
        "print('Uwak'=='Uwak')\n",
        "print('Uwak'=='uwak')"
      ],
      "metadata": {
        "colab": {
          "base_uri": "https://localhost:8080/"
        },
        "id": "G-DzZHUVB89B",
        "outputId": "bb81c9f1-b160-4850-91ee-f8085c9db971"
      },
      "execution_count": null,
      "outputs": [
        {
          "output_type": "stream",
          "name": "stdout",
          "text": [
            "True\n",
            "False\n",
            "False\n",
            "True\n",
            "False\n"
          ]
        }
      ]
    },
    {
      "cell_type": "code",
      "source": [
        "x = 'Uwak'\n",
        "y = 'Uwak'\n",
        "result = x.lower() == y.lower()\n",
        "print(result)"
      ],
      "metadata": {
        "colab": {
          "base_uri": "https://localhost:8080/"
        },
        "id": "xAvBFl4XDhv2",
        "outputId": "fe42d7f2-0376-40de-daa5-362657b6d101"
      },
      "execution_count": null,
      "outputs": [
        {
          "output_type": "stream",
          "name": "stdout",
          "text": [
            "True\n"
          ]
        }
      ]
    },
    {
      "cell_type": "code",
      "source": [
        "y==y.lower()\n",
        "y"
      ],
      "metadata": {
        "colab": {
          "base_uri": "https://localhost:8080/",
          "height": 36
        },
        "id": "7NQ8dljbEC8O",
        "outputId": "42de0c13-338b-463d-8552-b6af1ff29319"
      },
      "execution_count": null,
      "outputs": [
        {
          "output_type": "execute_result",
          "data": {
            "text/plain": [
              "'Uwak'"
            ],
            "application/vnd.google.colaboratory.intrinsic+json": {
              "type": "string"
            }
          },
          "metadata": {},
          "execution_count": 66
        }
      ]
    }
  ]
}